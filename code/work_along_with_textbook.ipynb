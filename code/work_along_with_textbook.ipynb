{
 "cells": [
  {
   "cell_type": "code",
   "execution_count": null,
   "metadata": {
    "collapsed": true
   },
   "outputs": [],
   "source": [
    "import pandas as pd"
   ]
  },
  {
   "cell_type": "code",
   "execution_count": null,
   "metadata": {
    "collapsed": true
   },
   "outputs": [],
   "source": [
    "squares_list = [0,1,4,9,16,25]"
   ]
  },
  {
   "cell_type": "code",
   "execution_count": null,
   "metadata": {
    "collapsed": false
   },
   "outputs": [],
   "source": [
    "squares_list[00]"
   ]
  },
  {
   "cell_type": "code",
   "execution_count": null,
   "metadata": {
    "collapsed": false
   },
   "outputs": [],
   "source": [
    "squares_list[0]"
   ]
  },
  {
   "cell_type": "code",
   "execution_count": null,
   "metadata": {
    "collapsed": false
   },
   "outputs": [],
   "source": [
    "squares_list[2:5]"
   ]
  },
  {
   "cell_type": "code",
   "execution_count": null,
   "metadata": {
    "collapsed": false
   },
   "outputs": [],
   "source": [
    "squares_list[-2]"
   ]
  },
  {
   "cell_type": "code",
   "execution_count": null,
   "metadata": {
    "collapsed": false
   },
   "outputs": [],
   "source": [
    "squares_list"
   ]
  },
  {
   "cell_type": "code",
   "execution_count": null,
   "metadata": {
    "collapsed": true
   },
   "outputs": [],
   "source": [
    "greeting = 'Hello'"
   ]
  },
  {
   "cell_type": "code",
   "execution_count": null,
   "metadata": {
    "collapsed": false
   },
   "outputs": [],
   "source": [
    "print(greeting[1])"
   ]
  },
  {
   "cell_type": "code",
   "execution_count": null,
   "metadata": {
    "collapsed": false
   },
   "outputs": [],
   "source": [
    "print(len(greeting))"
   ]
  },
  {
   "cell_type": "code",
   "execution_count": null,
   "metadata": {
    "collapsed": false
   },
   "outputs": [],
   "source": [
    "print(greeting + ' World')"
   ]
  },
  {
   "cell_type": "code",
   "execution_count": null,
   "metadata": {
    "collapsed": true
   },
   "outputs": [],
   "source": [
    "stmt = r'\\n is a newling character by default'"
   ]
  },
  {
   "cell_type": "code",
   "execution_count": null,
   "metadata": {
    "collapsed": false
   },
   "outputs": [],
   "source": [
    "print(stmt)"
   ]
  },
  {
   "cell_type": "code",
   "execution_count": null,
   "metadata": {
    "collapsed": true
   },
   "outputs": [],
   "source": [
    "tuple_example = 0, 1, 4, 9, 16, 25"
   ]
  },
  {
   "cell_type": "code",
   "execution_count": null,
   "metadata": {
    "collapsed": false
   },
   "outputs": [],
   "source": [
    "tuple_example"
   ]
  },
  {
   "cell_type": "code",
   "execution_count": null,
   "metadata": {
    "collapsed": false
   },
   "outputs": [],
   "source": [
    "tuple_example[4]"
   ]
  },
  {
   "cell_type": "code",
   "execution_count": null,
   "metadata": {
    "collapsed": false
   },
   "outputs": [],
   "source": [
    "tuple_example[2] = 6"
   ]
  },
  {
   "cell_type": "code",
   "execution_count": null,
   "metadata": {
    "collapsed": false
   },
   "outputs": [],
   "source": [
    "extensions = {'Kunal':9073, 'Tavish':9128, 'Sunil': 9223, 'Nitin':9330}\n",
    "extensions"
   ]
  },
  {
   "cell_type": "code",
   "execution_count": null,
   "metadata": {
    "collapsed": false
   },
   "outputs": [],
   "source": [
    "extensions['Mukesh'] = 9150\n",
    "extensions"
   ]
  },
  {
   "cell_type": "code",
   "execution_count": null,
   "metadata": {
    "collapsed": false
   },
   "outputs": [],
   "source": [
    "extensions.keys()"
   ]
  },
  {
   "cell_type": "code",
   "execution_count": null,
   "metadata": {
    "collapsed": false
   },
   "outputs": [],
   "source": [
    "for i in [Python Iterable]:\n",
    "    expressions(i)"
   ]
  },
  {
   "cell_type": "code",
   "execution_count": null,
   "metadata": {
    "collapsed": false
   },
   "outputs": [],
   "source": [
    "fact = 1\n",
    "for i in range(1,N+1):\n",
    "    fact *= 1"
   ]
  },
  {
   "cell_type": "code",
   "execution_count": null,
   "metadata": {
    "collapsed": false
   },
   "outputs": [],
   "source": [
    "N=354\n",
    "if N%2 == 0:\n",
    "    print('Even')\n",
    "else:\n",
    "    print('Odd')"
   ]
  },
  {
   "cell_type": "code",
   "execution_count": null,
   "metadata": {
    "collapsed": false
   },
   "outputs": [],
   "source": [
    "import math as m"
   ]
  },
  {
   "cell_type": "code",
   "execution_count": null,
   "metadata": {
    "collapsed": false
   },
   "outputs": [],
   "source": [
    "m.factorial(3)"
   ]
  },
  {
   "cell_type": "code",
   "execution_count": null,
   "metadata": {
    "collapsed": false
   },
   "outputs": [],
   "source": [
    "plot(arange(5))"
   ]
  },
  {
   "cell_type": "code",
   "execution_count": null,
   "metadata": {
    "collapsed": true
   },
   "outputs": [],
   "source": [
    "import numpy as np\n",
    "import matplotlib.pyplot as plt\n",
    "import pandas as pd\n",
    "%matplotlib inline"
   ]
  },
  {
   "cell_type": "code",
   "execution_count": null,
   "metadata": {
    "collapsed": true
   },
   "outputs": [],
   "source": [
    "import nsfg"
   ]
  },
  {
   "cell_type": "code",
   "execution_count": null,
   "metadata": {
    "collapsed": true
   },
   "outputs": [],
   "source": [
    "preg = nsfg.ReadFemPreg()\n",
    "live = preg[preg.outcome==1]"
   ]
  },
  {
   "cell_type": "code",
   "execution_count": null,
   "metadata": {
    "collapsed": true
   },
   "outputs": [],
   "source": [
    "import thinkstats2 as ts2\n",
    "import thinkplot as tp"
   ]
  },
  {
   "cell_type": "code",
   "execution_count": null,
   "metadata": {
    "collapsed": false
   },
   "outputs": [],
   "source": [
    "hist = ts2.Hist(live.birthwgt_lb, label='birthwgt_lb')\n",
    "tp.Hist(hist)\n",
    "tp.Show(xlabel='pounds', ylabel='frequency')"
   ]
  },
  {
   "cell_type": "code",
   "execution_count": null,
   "metadata": {
    "collapsed": false
   },
   "outputs": [],
   "source": [
    "for weeks, freq in hist.Smallest(10):\n",
    "    print(weeks, freq)"
   ]
  },
  {
   "cell_type": "code",
   "execution_count": null,
   "metadata": {
    "collapsed": false
   },
   "outputs": [],
   "source": [
    "for weeks, freq in hist.Largest(10):\n",
    "    print(weeks, freq)"
   ]
  },
  {
   "cell_type": "code",
   "execution_count": null,
   "metadata": {
    "collapsed": false
   },
   "outputs": [],
   "source": [
    "\n",
    "\n",
    "first_hist = ts2.Hist(firsts.prglngth)\n",
    "other_hist = ts2.Hist(others.prglngth)\n",
    "\n",
    "width = 0.45\n",
    "tp.PrePlot(2)\n",
    "tp.Hist(first_hist, align='right', width=width)\n",
    "tp.Hist(other_hist, align='left', width=width)\n",
    "tp.Show(xlabel='weeks', ylabel='frequency', xlim=[27, 46])"
   ]
  },
  {
   "cell_type": "code",
   "execution_count": null,
   "metadata": {
    "collapsed": false
   },
   "outputs": [],
   "source": [
    "mean = live.prglngth.mean()\n",
    "var = live.prglngth.var()\n",
    "std = live.prglngth.std()\n",
    "mean, var, std"
   ]
  },
  {
   "cell_type": "code",
   "execution_count": null,
   "metadata": {
    "collapsed": false
   },
   "outputs": [],
   "source": [
    "import math\n",
    "def CohenEffectSize(group1, group2):\n",
    "    diff = group1.mean() - group2.mean()\n",
    "    \n",
    "    var1 = group1.var()\n",
    "    var2 = group2.var()\n",
    "    n1, n2 = len(group1), len(group2)\n",
    "    \n",
    "    pooled_var = (n1 * var1 + n2 * var2) / (n1 + n2)\n",
    "    d = diff / math.sqrt(pooled_var)\n",
    "    return d"
   ]
  },
  {
   "cell_type": "code",
   "execution_count": null,
   "metadata": {
    "collapsed": false
   },
   "outputs": [],
   "source": [
    "CohenEffectSize(firsts.totalwgt_lb, others.totalwgt_lb)"
   ]
  },
  {
   "cell_type": "code",
   "execution_count": null,
   "metadata": {
    "collapsed": false
   },
   "outputs": [],
   "source": [
    "def AllModes(d):\n",
    "    return sorted(d.items(), key=lambda kv: kv[1], reverse = True)"
   ]
  },
  {
   "cell_type": "code",
   "execution_count": null,
   "metadata": {
    "collapsed": true
   },
   "outputs": [],
   "source": [
    "d = {4:6, 6:9, 2:7}"
   ]
  },
  {
   "cell_type": "code",
   "execution_count": null,
   "metadata": {
    "collapsed": false
   },
   "outputs": [],
   "source": [
    "d.items()"
   ]
  },
  {
   "cell_type": "code",
   "execution_count": null,
   "metadata": {
    "collapsed": false
   },
   "outputs": [],
   "source": [
    "AllModes(d)"
   ]
  },
  {
   "cell_type": "code",
   "execution_count": null,
   "metadata": {
    "collapsed": false
   },
   "outputs": [],
   "source": [
    "from analytic import *\n"
   ]
  },
  {
   "cell_type": "code",
   "execution_count": null,
   "metadata": {
    "collapsed": true
   },
   "outputs": [],
   "source": [
    "df = ReadBabyBoom()"
   ]
  },
  {
   "cell_type": "code",
   "execution_count": null,
   "metadata": {
    "collapsed": false
   },
   "outputs": [],
   "source": [
    "diffs = df.minutes.diff()\n",
    "cdf = ts2.Cdf(diffs, label='actual')"
   ]
  },
  {
   "cell_type": "code",
   "execution_count": null,
   "metadata": {
    "collapsed": false
   },
   "outputs": [],
   "source": [
    "tp.Cdf(cdf)\n",
    "tp.Show(xlabel='minutes', ylabel='CDF')"
   ]
  },
  {
   "cell_type": "code",
   "execution_count": null,
   "metadata": {
    "collapsed": false
   },
   "outputs": [],
   "source": [
    "tp.Cdf(cdf, complement =True)\n",
    "tp.Show(xlabel='minutes', ylabel='CCDF', yscale='log')"
   ]
  },
  {
   "cell_type": "code",
   "execution_count": null,
   "metadata": {
    "collapsed": false
   },
   "outputs": [],
   "source": [
    "import scipy.stats\n",
    "scipy.stats.norm.cdf(0)"
   ]
  },
  {
   "cell_type": "code",
   "execution_count": null,
   "metadata": {
    "collapsed": true
   },
   "outputs": [],
   "source": [
    "def EvalNormalCdf(x, mu=0, sigma=1):\n",
    "    return scipy.stats.norm.cdf(x, loc=mu, scale=sigma)"
   ]
  },
  {
   "cell_type": "code",
   "execution_count": null,
   "metadata": {
    "collapsed": false
   },
   "outputs": [],
   "source": [
    "def MakeNormalPlot(weights):\n",
    "    mean = weights.mean()\n",
    "    std = weights.std()\n",
    "    \n",
    "    xs = [-4, 4]\n",
    "    fxs, fys = ts2.FitLine(xs, inter=mean, slope=std)\n",
    "    tp.Plot(fxs, fys, color='gray', label='model')\n",
    "    \n",
    "    xs, ys = ts2.NormalProbability(weights)\n",
    "    tp.Plot(xs, ys, label='birth weights')\n",
    "    "
   ]
  },
  {
   "cell_type": "code",
   "execution_count": null,
   "metadata": {
    "collapsed": true
   },
   "outputs": [],
   "source": [
    "def expovariate(lam):\n",
    "    p = random.random()\n",
    "    x = -math.log(1-p) / lam\n",
    "    return x"
   ]
  },
  {
   "cell_type": "code",
   "execution_count": null,
   "metadata": {
    "collapsed": true
   },
   "outputs": [],
   "source": [
    "import math\n",
    "import random\n",
    "import first\n",
    "import brfss"
   ]
  },
  {
   "cell_type": "code",
   "execution_count": null,
   "metadata": {
    "collapsed": false
   },
   "outputs": [],
   "source": [
    "mean, var = 163, 52.8\n",
    "std = math.sqrt(var)\n",
    "pdf = ts2.NormalPdf(mean, std)\n",
    "pdf.Density(mean + std)"
   ]
  },
  {
   "cell_type": "code",
   "execution_count": null,
   "metadata": {
    "collapsed": false
   },
   "outputs": [],
   "source": [
    "tp.Pdf(pdf, label='normal')\n",
    "tp.Show()"
   ]
  },
  {
   "cell_type": "code",
   "execution_count": null,
   "metadata": {
    "collapsed": false
   },
   "outputs": [],
   "source": [
    "pmf = pdf.MakePmf()"
   ]
  },
  {
   "cell_type": "code",
   "execution_count": null,
   "metadata": {
    "collapsed": false
   },
   "outputs": [],
   "source": [
    "sample = [random.gauss(mean, std) for i in range(500)]\n",
    "sample_pdf = ts2.EstimatedPdf(sample)\n",
    "tp.Pdf(sample_pdf, label='sample KDE')"
   ]
  },
  {
   "cell_type": "code",
   "execution_count": null,
   "metadata": {
    "collapsed": false
   },
   "outputs": [],
   "source": [
    "firsts = live[live.birthord == 1]\n",
    "others = live[live.birthord != 1]\n",
    "live, firsts, others = first.MakeFrames()\n",
    "data = live.totalwgt_lb.dropna()\n",
    "pdf = ts2.EstimatedPdf(data)\n",
    "tp.Pdf(pdf, label='birthweight')"
   ]
  },
  {
   "cell_type": "code",
   "execution_count": null,
   "metadata": {
    "collapsed": false
   },
   "outputs": [],
   "source": [
    "df = brfss.ReadBrfss(nrows=None)\n",
    "data = df.wtkg2.dropna()\n",
    "pdf = ts2.EstimatedPdf(data)\n",
    "tp.Pdf(pdf, label='adult weight')"
   ]
  },
  {
   "cell_type": "code",
   "execution_count": 1,
   "metadata": {
    "collapsed": false
   },
   "outputs": [],
   "source": [
    "import numpy as np\n",
    "\n",
    "import density\n",
    "import hinc\n",
    "import thinkplot as tp\n",
    "import thinkstats2 as ts2"
   ]
  },
  {
   "cell_type": "code",
   "execution_count": null,
   "metadata": {
    "collapsed": true
   },
   "outputs": [],
   "source": [
    "def InterpolateSample(df, log_upper=6.0):\n",
    "    \"\"\"Makes a sample of log10 household income.\n",
    "\n",
    "    Assumes that log10 income is uniform in each range.\n",
    "\n",
    "    df: DataFrame with columns income and freq\n",
    "    log_upper: log10 of the assumed upper bound for the highest range\n",
    "\n",
    "    returns: NumPy array of log10 household income\n",
    "    \"\"\"\n",
    "    # compute the log10 of the upper bound for each range\n",
    "    df['log_upper'] = np.log10(df.income)\n",
    "\n",
    "    # get the lower bounds by shifting the upper bound and filling in\n",
    "    # the first element\n",
    "    df['log_lower'] = df.log_upper.shift(1)\n",
    "    df.log_lower[0] = 3.0\n",
    "\n",
    "    # plug in a value for the unknown upper bound of the highest range\n",
    "    df.log_upper[41] = log_upper\n",
    "\n",
    "    # use the freq column to generate the right number of values in\n",
    "    # each range\n",
    "    arrays = []\n",
    "    for _, row in df.iterrows():\n",
    "        vals = np.linspace(row.log_lower, row.log_upper, row.freq)\n",
    "        arrays.append(vals)\n",
    "\n",
    "    # collect the arrays into a single sample\n",
    "    log_sample = np.concatenate(arrays)\n",
    "    return log_sample"
   ]
  },
  {
   "cell_type": "code",
   "execution_count": null,
   "metadata": {
    "collapsed": false
   },
   "outputs": [],
   "source": [
    "df = hinc.ReadData()\n",
    "log_sample = InterpolateSample(df, log_upper=6.0)\n",
    "\n",
    "    "
   ]
  },
  {
   "cell_type": "code",
   "execution_count": null,
   "metadata": {
    "collapsed": false
   },
   "outputs": [],
   "source": [
    "log_cdf = ts2.Cdf(log_sample)\n",
    "tp.Cdf(log_cdf)\n",
    "tp.Show(xlabel='household income', ylabel='CDF')"
   ]
  },
  {
   "cell_type": "code",
   "execution_count": null,
   "metadata": {
    "collapsed": false
   },
   "outputs": [],
   "source": [
    "sample = np.power(10, log_sample)\n",
    "mean, median = density.Summarize(sample)\n",
    "\n",
    "cdf = ts2.Cdf(sample)\n",
    "print('cdf[mean]', cdf[mean])\n",
    "\n",
    "pdf = ts2.EstimatedPdf(sample)\n",
    "tp.Pdf(pdf)\n",
    "tp.Show(xlabel='household income',\n",
    "                   ylabel='PDF')"
   ]
  },
  {
   "cell_type": "code",
   "execution_count": 2,
   "metadata": {
    "collapsed": true
   },
   "outputs": [],
   "source": [
    "import scatter\n"
   ]
  },
  {
   "cell_type": "code",
   "execution_count": null,
   "metadata": {
    "collapsed": false
   },
   "outputs": [],
   "source": [
    "df = brfss.ReadBrfss(nrows=None)\n",
    "sample = ts2.SampleRows(df, 5000)\n",
    "heights, weights = sample.htm3, sample.wtkg2"
   ]
  },
  {
   "cell_type": "code",
   "execution_count": null,
   "metadata": {
    "collapsed": false
   },
   "outputs": [],
   "source": [
    "plt.figure(figsize=(12,10))\n",
    "tp.Scatter(heights, weights)\n",
    "tp.Show(xlabel = 'Height (cm)', ylabel='Weight (kg)', axis=[140, 210, 20, 200])"
   ]
  },
  {
   "cell_type": "code",
   "execution_count": null,
   "metadata": {
    "collapsed": true
   },
   "outputs": [],
   "source": [
    "heights = ts2.Jitter(heights, 1.3)\n",
    "weights = ts2.Jitter(weights, 0.5)"
   ]
  },
  {
   "cell_type": "code",
   "execution_count": null,
   "metadata": {
    "collapsed": false
   },
   "outputs": [],
   "source": [
    "plt.figure(figsize=(14,12))\n",
    "tp.Scatter(heights, weights, alpha=0.2)"
   ]
  },
  {
   "cell_type": "code",
   "execution_count": null,
   "metadata": {
    "collapsed": false
   },
   "outputs": [],
   "source": [
    "plt.figure(figsize=(14,12))\n",
    "tp.HexBin(heights, weights)"
   ]
  },
  {
   "cell_type": "code",
   "execution_count": null,
   "metadata": {
    "collapsed": true
   },
   "outputs": [],
   "source": [
    "df = df.dropna(subset=['htm3','wtkg2'])\n",
    "bins = np.arange(135, 210, 5)\n",
    "indices = np.digitize(df.htm3, bins)\n",
    "groups = df.groupby(indices)"
   ]
  },
  {
   "cell_type": "code",
   "execution_count": null,
   "metadata": {
    "collapsed": false
   },
   "outputs": [],
   "source": [
    "for i, group in groups:\n",
    "    print(i, len(group))"
   ]
  },
  {
   "cell_type": "code",
   "execution_count": null,
   "metadata": {
    "collapsed": true
   },
   "outputs": [],
   "source": [
    "heights = [group.htm3.mean() for i, group in groups]\n",
    "cdfs = [ts2.Cdf(group.wtkg2) for i, group in groups]"
   ]
  },
  {
   "cell_type": "code",
   "execution_count": null,
   "metadata": {
    "collapsed": false
   },
   "outputs": [],
   "source": [
    "plt.figure(figsize=(14,12))\n",
    "for percent in [75, 50, 25]:\n",
    "    weights = [cdf.Percentile(percent) for cdf in cdfs]\n",
    "    label = '%dth' % percent\n",
    "    tp.Plot(heights, weights, label=label)"
   ]
  },
  {
   "cell_type": "code",
   "execution_count": null,
   "metadata": {
    "collapsed": true
   },
   "outputs": [],
   "source": [
    "live = live.dropna(subset=['agepreg', 'totalwgt_lb'])\n",
    "age = live.agepreg\n",
    "weight = live.totalwgt_lb\n",
    "bins = np.arange(15, 60, 1)\n",
    "indices = np.digitize(age, bins)\n",
    "groups = live.groupby(indices)\n"
   ]
  },
  {
   "cell_type": "code",
   "execution_count": null,
   "metadata": {
    "collapsed": false
   },
   "outputs": [],
   "source": [
    "age = [group.agepreg.mean() for i, group in groups]\n",
    "cdfs = [ts2.Cdf(group.totalwgt_lb) for i, group in groups]"
   ]
  },
  {
   "cell_type": "code",
   "execution_count": null,
   "metadata": {
    "collapsed": false
   },
   "outputs": [],
   "source": [
    "plt.figure(figsize=(14,12))\n",
    "for percent in [75, 50, 25]:\n",
    "    weights = [cdf.Percentile(percent) for cdf in cdfs]\n",
    "    label = '%dth' % percent\n",
    "    tp.Plot(age, weights, label=label)"
   ]
  },
  {
   "cell_type": "code",
   "execution_count": null,
   "metadata": {
    "collapsed": true
   },
   "outputs": [],
   "source": []
  },
  {
   "cell_type": "code",
   "execution_count": null,
   "metadata": {
    "collapsed": false
   },
   "outputs": [],
   "source": [
    "ts2.Corr(df.htm3, np.log(df.wtkg2))"
   ]
  },
  {
   "cell_type": "code",
   "execution_count": null,
   "metadata": {
    "collapsed": true
   },
   "outputs": [],
   "source": [
    "def ScatterPlot(ages, weights, alpha=1.0):\n",
    "    \"\"\"Make a scatter plot and save it.\n",
    "\n",
    "    ages: sequence of float\n",
    "    weights: sequence of float\n",
    "    alpha: float\n",
    "    \"\"\"\n",
    "    thinkplot.Scatter(ages, weights, alpha=alpha)\n",
    "    thinkplot.Config(xlabel='age (years)',\n",
    "                     ylabel='weight (lbs)',\n",
    "                     xlim=[10, 45],\n",
    "                     ylim=[0, 15],\n",
    "                     legend=False)\n",
    "\n",
    "\n",
    "def HexBin(ages, weights, bins=None):\n",
    "    \"\"\"Make a hexbin plot and save it.\n",
    "\n",
    "    ages: sequence of float\n",
    "    weights: sequence of float\n",
    "    bins: 'log' or None for linear\n",
    "    \"\"\"\n",
    "    thinkplot.HexBin(ages, weights, bins=bins)\n",
    "    thinkplot.Config(xlabel='age (years)',\n",
    "                     ylabel='weight (lbs)',\n",
    "                     legend=False)\n",
    "\n",
    "\n",
    "def BinnedPercentiles(df):\n",
    "    \"\"\"Bin the data by age and plot percentiles of weight for each bin.\n",
    "\n",
    "    df: DataFrame\n",
    "    \"\"\"\n",
    "    bins = np.arange(10, 48, 3)\n",
    "    indices = np.digitize(df.agepreg, bins)\n",
    "    groups = df.groupby(indices)\n",
    "\n",
    "    ages = [group.agepreg.mean() for i, group in groups][1:-1]\n",
    "    cdfs = [thinkstats2.Cdf(group.totalwgt_lb) for i, group in groups][1:-1]\n",
    "\n",
    "    thinkplot.PrePlot(3)\n",
    "    for percent in [75, 50, 25]:\n",
    "        weights = [cdf.Percentile(percent) for cdf in cdfs]\n",
    "        label = '%dth' % percent\n",
    "        thinkplot.Plot(ages, weights, label=label)\n",
    "\n",
    "    thinkplot.Save(root='chap07scatter3',\n",
    "                   formats=['jpg'],\n",
    "                   xlabel=\"mother's age (years)\",\n",
    "                   ylabel='birth weight (lbs)')\n"
   ]
  },
  {
   "cell_type": "code",
   "execution_count": 13,
   "metadata": {
    "collapsed": false
   },
   "outputs": [],
   "source": [
    "#chapter 7 exercise\n",
    "import sys\n",
    "import numpy as np\n",
    "import math\n",
    "import first\n",
    "import random"
   ]
  },
  {
   "cell_type": "code",
   "execution_count": null,
   "metadata": {
    "collapsed": false
   },
   "outputs": [],
   "source": [
    "ts2.RandomSeed(17)\n",
    "    \n",
    "live, firsts, others = first.MakeFrames()\n",
    "live = live.dropna(subset=['agepreg', 'totalwgt_lb'])\n",
    "BinnedPercentiles(live)"
   ]
  },
  {
   "cell_type": "code",
   "execution_count": null,
   "metadata": {
    "collapsed": false
   },
   "outputs": [],
   "source": [
    "ages = live.agepreg\n",
    "weights = live.totalwgt_lb\n",
    "print('thinkstats2 Corr', ts2.Corr(ages, weights))\n",
    "print('thinkstats2 SpearmanCorr', ts2.SpearmanCorr(ages, weights))"
   ]
  },
  {
   "cell_type": "code",
   "execution_count": null,
   "metadata": {
    "collapsed": false
   },
   "outputs": [],
   "source": [
    "plt.figure(figsize=(14,12))\n",
    "ScatterPlot(ages, weights, alpha=0.1)"
   ]
  },
  {
   "cell_type": "code",
   "execution_count": 4,
   "metadata": {
    "collapsed": true
   },
   "outputs": [],
   "source": [
    "import estimation"
   ]
  },
  {
   "cell_type": "code",
   "execution_count": 74,
   "metadata": {
    "collapsed": true
   },
   "outputs": [],
   "source": [
    "def Estimate1(n=7, m=1000):\n",
    "    mu = 0\n",
    "    sigma = 1\n",
    "    \n",
    "    means = []\n",
    "    medians = []\n",
    "    for _ in range(m):\n",
    "        xs = [random.gauss(mu, sigma) for i in range(n)]\n",
    "        xbar = np.mean(xs)\n",
    "        median = np.median(xs)\n",
    "        means.append(xbar)\n",
    "        medians.append(median)\n",
    "        \n",
    "    print('rmse xbar', RMSE(means, mu))\n",
    "    print('rmse median', RMSE(medians, mu))"
   ]
  },
  {
   "cell_type": "code",
   "execution_count": 7,
   "metadata": {
    "collapsed": true
   },
   "outputs": [],
   "source": [
    "def RMSE(estimates, actual):\n",
    "    e2 = [(estimate-actual)**2 for estimate in estimates]\n",
    "    mse = np.mean(e2)\n",
    "    return math.sqrt(mse)\n",
    "    "
   ]
  },
  {
   "cell_type": "code",
   "execution_count": 20,
   "metadata": {
    "collapsed": true
   },
   "outputs": [],
   "source": [
    "def Estimate2(n=7, m=1000):\n",
    "    mu = 0\n",
    "    sigma = 1\n",
    "    \n",
    "    estimates1 = []\n",
    "    estimates2 = []\n",
    "    for _ in range (m):\n",
    "        xs = [random.gauss(mu, sigma) for i in range(n)]\n",
    "        biased = np.var(xs)\n",
    "        unbiased = np.var(xs, ddof=1)\n",
    "        estimates1.append(biased)\n",
    "        estimates2.append(unbiased)\n",
    "        \n",
    "    print('mean error biased', MeanError(estimates1, sigma**2))\n",
    "    print('mean error unbiased', MeanError(estimates2, sigma**2))\n"
   ]
  },
  {
   "cell_type": "code",
   "execution_count": 19,
   "metadata": {
    "collapsed": true
   },
   "outputs": [],
   "source": [
    "def MeanError(estimates, actual):\n",
    "    errors = [estimate-actual for estimate in estimates]\n",
    "    return np.mean(errors)"
   ]
  },
  {
   "cell_type": "code",
   "execution_count": 27,
   "metadata": {
    "collapsed": false
   },
   "outputs": [
    {
     "name": "stdout",
     "output_type": "stream",
     "text": [
      "rmse xbar 0.3807444803139225\n",
      "rmse median 0.3807444803139225\n"
     ]
    }
   ],
   "source": [
    "Estimate1()"
   ]
  },
  {
   "cell_type": "code",
   "execution_count": 28,
   "metadata": {
    "collapsed": false
   },
   "outputs": [
    {
     "name": "stdout",
     "output_type": "stream",
     "text": [
      "mean error biased -0.127770098733\n",
      "mean error unbiased 0.0176015514778\n"
     ]
    }
   ],
   "source": [
    "Estimate2()"
   ]
  },
  {
   "cell_type": "code",
   "execution_count": 29,
   "metadata": {
    "collapsed": true
   },
   "outputs": [],
   "source": [
    "def SimulateSample(mu=90, sigma=7.5, n=9, m=1000):\n",
    "    means = []\n",
    "    for j in range(m):\n",
    "        xs = np.random.normal(mu, sigma, n)\n",
    "        xbar = np.mean(xs)\n",
    "        means.append(xbar)\n",
    "        \n",
    "    cdf = ts2.Cdf(means)\n",
    "    ci = cdf.Percentile(5), cdf.Percentile(95)\n",
    "    stderr = RMSE(means, mu)"
   ]
  },
  {
   "cell_type": "code",
   "execution_count": 37,
   "metadata": {
    "collapsed": true
   },
   "outputs": [],
   "source": [
    "def Estimate3(n=10, m=1000, lam=2):\n",
    "    means = []\n",
    "    medians = []\n",
    "    for _ in range(m):\n",
    "        xs = np.random.exponential(1.0/lam, n)\n",
    "        L = 1/np.mean(xs)\n",
    "        Lm = math.log(2) / ts2.Median(xs)\n",
    "        means.append(L)\n",
    "        medians.append(Lm)\n",
    "        \n",
    "    print('rmse L', RMSE(means, lam))\n",
    "    print('rmse Lm', RMSE(medians, lam))\n",
    "    print('mean error L', MeanError(means, lam))\n",
    "    print('mean error Lm', MeanError(medians, lam))"
   ]
  },
  {
   "cell_type": "code",
   "execution_count": null,
   "metadata": {
    "collapsed": true
   },
   "outputs": [],
   "source": [
    "##These methods seem to be biased."
   ]
  },
  {
   "cell_type": "code",
   "execution_count": 75,
   "metadata": {
    "collapsed": false
   },
   "outputs": [
    {
     "name": "stdout",
     "output_type": "stream",
     "text": [
      "rmse xbar 0.3724902274389175\n",
      "rmse median 0.4717590573013685\n",
      "rmse xbar 0.36745348089437957\n",
      "rmse median 0.46690115471690324\n",
      "rmse xbar 0.37546020077808856\n",
      "rmse median 0.4579142504896333\n",
      "rmse xbar 0.37912079590905595\n",
      "rmse median 0.4606527055393646\n"
     ]
    }
   ],
   "source": [
    "for i in [100, 1000, 10000, 100000]:\n",
    "    Estimate1(n=7, m=i)"
   ]
  },
  {
   "cell_type": "code",
   "execution_count": 38,
   "metadata": {
    "collapsed": false
   },
   "outputs": [
    {
     "name": "stdout",
     "output_type": "stream",
     "text": [
      "mean error biased -0.0646689318657\n",
      "mean error unbiased 0.0522474516511\n",
      "mean error biased -0.0996297032442\n",
      "mean error unbiased 0.0129165838503\n",
      "mean error biased -0.107459226884\n",
      "mean error unbiased 0.0041083697557\n",
      "mean error biased -0.111094129544\n",
      "mean error unbiased 1.91042632616e-05\n"
     ]
    }
   ],
   "source": [
    "for i in [100, 1000, 10000, 100000]:\n",
    "    Estimate2(n=9, m=i)"
   ]
  },
  {
   "cell_type": "code",
   "execution_count": 68,
   "metadata": {
    "collapsed": false
   },
   "outputs": [],
   "source": [
    "def Estimate3(n=10, m=1000, lam=2):\n",
    "    means = []\n",
    "    medians = []\n",
    "    for _ in range(m):\n",
    "        xs = np.random.exponential(1.0/lam, n)\n",
    "        L = 1/np.mean(xs)\n",
    "        Lm = math.log(2) / ts2.Median(xs)\n",
    "        means.append(L)\n",
    "        medians.append(Lm)\n",
    "    \n",
    "    cdf = ts2.Cdf(means)\n",
    "    ci = cdf.Percentile(10), cdf.Percentile(90)\n",
    "        \n",
    "    print('Root Mean Standard Error for L:', RMSE(means, lam))\n",
    "    print('Confidence Interval: ', ci)"
   ]
  },
  {
   "cell_type": "code",
   "execution_count": 69,
   "metadata": {
    "collapsed": false
   },
   "outputs": [
    {
     "name": "stdout",
     "output_type": "stream",
     "text": [
      "Root Mean Standard Error for L: 0.8108967853429914\n",
      "Confidence Interval:  (1.4215607708652773, 3.1098998310938208)\n"
     ]
    }
   ],
   "source": [
    "Estimate3()"
   ]
  },
  {
   "cell_type": "code",
   "execution_count": 70,
   "metadata": {
    "collapsed": true
   },
   "outputs": [],
   "source": [
    "def Estimate3mod(n=10, m=1000, lam=2):\n",
    "    means = []\n",
    "    medians = []\n",
    "    for _ in range(m):\n",
    "        xs = np.random.exponential(1.0/lam, n)\n",
    "        L = 1/np.mean(xs)\n",
    "        Lm = math.log(2) / ts2.Median(xs)\n",
    "        means.append(L)\n",
    "        medians.append(Lm)\n",
    "    \n",
    "    cdf = ts2.Cdf(means)\n",
    "    ci = cdf.Percentile(10), cdf.Percentile(90)\n",
    "    std_error = RMSE(means, lam)\n",
    "    return std_error"
   ]
  },
  {
   "cell_type": "code",
   "execution_count": 73,
   "metadata": {
    "collapsed": false
   },
   "outputs": [
    {
     "data": {
      "text/plain": [
       "<matplotlib.collections.PathCollection at 0x24169a5ea58>"
      ]
     },
     "execution_count": 73,
     "metadata": {},
     "output_type": "execute_result"
    },
    {
     "data": {
      "image/png": "[encoded data removed]",
      "text/plain": [
       "<matplotlib.figure.Figure at 0x24168bf6c50>"
      ]
     },
     "metadata": {},
     "output_type": "display_data"
    }
   ],
   "source": [
    "%matplotlib inline\n",
    "import matplotlib.pyplot as plt\n",
    "std_errors = []\n",
    "values = []\n",
    "\n",
    "for n in [5, 10, 15, 20, 25, 30, 35, 40, 45, 50, 100, 200, 300, 400, 500, 1000, 2000]:\n",
    "    values.append(n)\n",
    "    err = Estimate3mod(n=n, m=1000, lam=2)\n",
    "    std_errors.append(err)\n",
    "    \n",
    "plt.figure(figsize=(14,12))\n",
    "plt.scatter(values, std_errors)"
   ]
  },
  {
   "cell_type": "code",
   "execution_count": null,
   "metadata": {
    "collapsed": true
   },
   "outputs": [],
   "source": []
  },
  {
   "cell_type": "code",
   "execution_count": null,
   "metadata": {
    "collapsed": true
   },
   "outputs": [],
   "source": []
  },
  {
   "cell_type": "code",
   "execution_count": null,
   "metadata": {
    "collapsed": true
   },
   "outputs": [],
   "source": []
  },
  {
   "cell_type": "code",
   "execution_count": null,
   "metadata": {
    "collapsed": true
   },
   "outputs": [],
   "source": []
  },
  {
   "cell_type": "code",
   "execution_count": null,
   "metadata": {
    "collapsed": true
   },
   "outputs": [],
   "source": []
  },
  {
   "cell_type": "code",
   "execution_count": null,
   "metadata": {
    "collapsed": true
   },
   "outputs": [],
   "source": []
  },
  {
   "cell_type": "code",
   "execution_count": null,
   "metadata": {
    "collapsed": true
   },
   "outputs": [],
   "source": []
  },
  {
   "cell_type": "code",
   "execution_count": 47,
   "metadata": {
    "collapsed": false
   },
   "outputs": [
    {
     "name": "stdout",
     "output_type": "stream",
     "text": [
      "Root Mean Standard Error for L: 0.8457831856320396\n",
      "Confidence Interval:  (1.417380834258275, 3.2951794198718387)\n"
     ]
    }
   ],
   "source": [
    "Estimate3()"
   ]
  },
  {
   "cell_type": "code",
   "execution_count": null,
   "metadata": {
    "collapsed": true
   },
   "outputs": [],
   "source": []
  }
 ],
 "metadata": {
  "anaconda-cloud": {},
  "kernelspec": {
   "display_name": "Python [Root]",
   "language": "python",
   "name": "Python [Root]"
  },
  "language_info": {
   "codemirror_mode": {
    "name": "ipython",
    "version": 3
   },
   "file_extension": ".py",
   "mimetype": "text/x-python",
   "name": "python",
   "nbconvert_exporter": "python",
   "pygments_lexer": "ipython3",
   "version": "3.5.2"
  }
 },
 "nbformat": 4,
 "nbformat_minor": 0
}
